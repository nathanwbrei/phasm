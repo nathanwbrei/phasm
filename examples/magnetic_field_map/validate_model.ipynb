{
 "cells": [
  {
   "cell_type": "code",
   "execution_count": 1,
   "id": "9384bd8f",
   "metadata": {},
   "outputs": [
    {
     "name": "stdout",
     "output_type": "stream",
     "text": [
      "Layer: layer_0.weight\tShape: torch.Size([30, 3])\n",
      "Layer: layer_0.bias\tShape: torch.Size([30])\n",
      "Layer: layer_1.weight\tShape: torch.Size([30, 30])\n",
      "Layer: layer_1.bias\tShape: torch.Size([30])\n",
      "Layer: layer_2.weight\tShape: torch.Size([30, 30])\n",
      "Layer: layer_2.bias\tShape: torch.Size([30])\n",
      "Layer: output_layer.weight\tShape: torch.Size([3, 30])\n",
      "Layer: output_layer.bias\tShape: torch.Size([3])\n"
     ]
    },
    {
     "name": "stderr",
     "output_type": "stream",
     "text": [
      "/Users/xinxinmei/opt/anaconda3/lib/python3.9/site-packages/torch/serialization.py:707: UserWarning: 'torch.load' received a zip file that looks like a TorchScript archive dispatching to 'torch.jit.load' (call 'torch.jit.load' directly to silence this warning)\n",
      "  warnings.warn(\"'torch.load' received a zip file that looks like a TorchScript archive\"\n"
     ]
    }
   ],
   "source": [
    "import torch\n",
    "import torchvision.models as models\n",
    "import pandas as pd\n",
    "import torch.nn as nn\n",
    "\n",
    "\n",
    "# Load the model\n",
    "device = torch.device(\"cpu\")\n",
    "model = torch.load(\"gluex_mfield_mlp.pt\", map_location=device)\n",
    "model.eval()\n",
    "\n",
    "# Print the dimensions of each layer\n",
    "for name, param in model.named_parameters():\n",
    "    print(f\"Layer: {name}\\tShape: {param.shape}\")"
   ]
  },
  {
   "cell_type": "code",
   "execution_count": 2,
   "id": "e3c869be",
   "metadata": {},
   "outputs": [],
   "source": [
    "# Load the input data from the CSV file\n",
    "csv_file = \"captures.csv\"  # from running phasm-example-magfieldmap\n",
    "data_frame = pd.read_csv(csv_file)"
   ]
  },
  {
   "cell_type": "code",
   "execution_count": 3,
   "id": "0a54db7b",
   "metadata": {},
   "outputs": [
    {
     "data": {
      "text/html": [
       "<div>\n",
       "<style scoped>\n",
       "    .dataframe tbody tr th:only-of-type {\n",
       "        vertical-align: middle;\n",
       "    }\n",
       "\n",
       "    .dataframe tbody tr th {\n",
       "        vertical-align: top;\n",
       "    }\n",
       "\n",
       "    .dataframe thead th {\n",
       "        text-align: right;\n",
       "    }\n",
       "</style>\n",
       "<table border=\"1\" class=\"dataframe\">\n",
       "  <thead>\n",
       "    <tr style=\"text-align: right;\">\n",
       "      <th></th>\n",
       "      <th>x</th>\n",
       "      <th>y</th>\n",
       "      <th>z</th>\n",
       "      <th>Bx</th>\n",
       "      <th>By</th>\n",
       "      <th>Bz</th>\n",
       "    </tr>\n",
       "  </thead>\n",
       "  <tbody>\n",
       "    <tr>\n",
       "      <th>0</th>\n",
       "      <td>-20</td>\n",
       "      <td>-20</td>\n",
       "      <td>0</td>\n",
       "      <td>0.136257</td>\n",
       "      <td>0.136257</td>\n",
       "      <td>1.07503</td>\n",
       "    </tr>\n",
       "    <tr>\n",
       "      <th>1</th>\n",
       "      <td>-20</td>\n",
       "      <td>-20</td>\n",
       "      <td>2</td>\n",
       "      <td>0.134408</td>\n",
       "      <td>0.134408</td>\n",
       "      <td>1.10353</td>\n",
       "    </tr>\n",
       "    <tr>\n",
       "      <th>2</th>\n",
       "      <td>-20</td>\n",
       "      <td>-20</td>\n",
       "      <td>4</td>\n",
       "      <td>0.132276</td>\n",
       "      <td>0.132276</td>\n",
       "      <td>1.13157</td>\n",
       "    </tr>\n",
       "    <tr>\n",
       "      <th>3</th>\n",
       "      <td>-20</td>\n",
       "      <td>-20</td>\n",
       "      <td>6</td>\n",
       "      <td>0.129878</td>\n",
       "      <td>0.129878</td>\n",
       "      <td>1.15908</td>\n",
       "    </tr>\n",
       "    <tr>\n",
       "      <th>4</th>\n",
       "      <td>-20</td>\n",
       "      <td>-20</td>\n",
       "      <td>8</td>\n",
       "      <td>0.127231</td>\n",
       "      <td>0.127231</td>\n",
       "      <td>1.18599</td>\n",
       "    </tr>\n",
       "    <tr>\n",
       "      <th>...</th>\n",
       "      <td>...</td>\n",
       "      <td>...</td>\n",
       "      <td>...</td>\n",
       "      <td>...</td>\n",
       "      <td>...</td>\n",
       "      <td>...</td>\n",
       "    </tr>\n",
       "    <tr>\n",
       "      <th>4995</th>\n",
       "      <td>16</td>\n",
       "      <td>16</td>\n",
       "      <td>90</td>\n",
       "      <td>-0.028906</td>\n",
       "      <td>-0.028906</td>\n",
       "      <td>1.73041</td>\n",
       "    </tr>\n",
       "    <tr>\n",
       "      <th>4996</th>\n",
       "      <td>16</td>\n",
       "      <td>16</td>\n",
       "      <td>92</td>\n",
       "      <td>-0.028446</td>\n",
       "      <td>-0.028446</td>\n",
       "      <td>1.73763</td>\n",
       "    </tr>\n",
       "    <tr>\n",
       "      <th>4997</th>\n",
       "      <td>16</td>\n",
       "      <td>16</td>\n",
       "      <td>94</td>\n",
       "      <td>-0.027969</td>\n",
       "      <td>-0.027969</td>\n",
       "      <td>1.74474</td>\n",
       "    </tr>\n",
       "    <tr>\n",
       "      <th>4998</th>\n",
       "      <td>16</td>\n",
       "      <td>16</td>\n",
       "      <td>96</td>\n",
       "      <td>-0.027473</td>\n",
       "      <td>-0.027473</td>\n",
       "      <td>1.75174</td>\n",
       "    </tr>\n",
       "    <tr>\n",
       "      <th>4999</th>\n",
       "      <td>16</td>\n",
       "      <td>16</td>\n",
       "      <td>98</td>\n",
       "      <td>-0.026956</td>\n",
       "      <td>-0.026956</td>\n",
       "      <td>1.75862</td>\n",
       "    </tr>\n",
       "  </tbody>\n",
       "</table>\n",
       "<p>5000 rows × 6 columns</p>\n",
       "</div>"
      ],
      "text/plain": [
       "       x   y   z        Bx        By       Bz\n",
       "0    -20 -20   0  0.136257  0.136257  1.07503\n",
       "1    -20 -20   2  0.134408  0.134408  1.10353\n",
       "2    -20 -20   4  0.132276  0.132276  1.13157\n",
       "3    -20 -20   6  0.129878  0.129878  1.15908\n",
       "4    -20 -20   8  0.127231  0.127231  1.18599\n",
       "...   ..  ..  ..       ...       ...      ...\n",
       "4995  16  16  90 -0.028906 -0.028906  1.73041\n",
       "4996  16  16  92 -0.028446 -0.028446  1.73763\n",
       "4997  16  16  94 -0.027969 -0.027969  1.74474\n",
       "4998  16  16  96 -0.027473 -0.027473  1.75174\n",
       "4999  16  16  98 -0.026956 -0.026956  1.75862\n",
       "\n",
       "[5000 rows x 6 columns]"
      ]
     },
     "execution_count": 3,
     "metadata": {},
     "output_type": "execute_result"
    }
   ],
   "source": [
    "data_frame"
   ]
  },
  {
   "cell_type": "code",
   "execution_count": 4,
   "id": "c22fff4c",
   "metadata": {},
   "outputs": [
    {
     "name": "stdout",
     "output_type": "stream",
     "text": [
      "[[ 0.136257   0.136257   1.07503  ]\n",
      " [ 0.134408   0.134408   1.10353  ]\n",
      " [ 0.132276   0.132276   1.13157  ]\n",
      " ...\n",
      " [-0.0279692 -0.0279692  1.74474  ]\n",
      " [-0.027473  -0.027473   1.75174  ]\n",
      " [-0.0269563 -0.0269563  1.75862  ]]\n"
     ]
    }
   ],
   "source": [
    "features = data_frame[['x',' y',' z']].values\n",
    "targets = data_frame[[' Bx',' By',' Bz']].values\n",
    "\n",
    "print(targets)"
   ]
  },
  {
   "cell_type": "code",
   "execution_count": 5,
   "id": "07335d14",
   "metadata": {},
   "outputs": [
    {
     "name": "stdout",
     "output_type": "stream",
     "text": [
      "MSE loss: 0.00010808946080831841\n"
     ]
    }
   ],
   "source": [
    "import matplotlib.pyplot as plt\n",
    "import numpy as np\n",
    "\n",
    "with torch.no_grad():\n",
    "    predictions = model(torch.as_tensor(features, dtype=torch.float32)).numpy()\n",
    "    residuals = targets - predictions\n",
    "\n",
    "mse_per_row = np.mean(residuals ** 2, axis=1)\n",
    "\n",
    "# Calculate the summation of MSE values\n",
    "mse_sum = np.sum(mse_per_row)\n",
    "\n",
    "# Print the summation of MSE values\n",
    "print(\"MSE loss:\", mse_sum/len(residuals))"
   ]
  },
  {
   "cell_type": "code",
   "execution_count": 6,
   "id": "63b5652e",
   "metadata": {},
   "outputs": [
    {
     "data": {
      "image/png": "[encoded data removed]",
      "text/plain": [
       "<Figure size 1080x576 with 3 Axes>"
      ]
     },
     "metadata": {
      "needs_background": "light"
     },
     "output_type": "display_data"
    }
   ],
   "source": [
    "figr, axr = plt.subplots(1,3,figsize=(15,8),sharey=True)\n",
    "\n",
    "axr[0].hist(residuals[:,0],100,histtype='step',color='k',linewidth=3.0)\n",
    "axr[0].set_xlabel('Residual Bx')\n",
    "axr[0].set_ylabel('Entries')\n",
    "axr[0].grid(True)\n",
    "axr[0].set_xlim(-0.2,0.2)\n",
    "\n",
    "axr[1].hist(residuals[:,1],100,histtype='step',color='k',linewidth=3.0)\n",
    "axr[1].set_xlabel('Residual By')\n",
    "axr[1].grid(True)\n",
    "axr[1].set_xlim(-0.2,0.2)\n",
    "\n",
    "axr[2].hist(residuals[:,2],100,histtype='step',color='k',linewidth=3.0)\n",
    "axr[2].set_xlabel('Residual Bz')\n",
    "axr[2].grid(True)\n",
    "axr[2].set_xlim(-0.2,0.2)\n",
    "\n",
    "\n",
    "plt.show()"
   ]
  },
  {
   "cell_type": "code",
   "execution_count": null,
   "id": "845ade50",
   "metadata": {},
   "outputs": [],
   "source": []
  }
 ],
 "metadata": {
  "kernelspec": {
   "display_name": "Python 3",
   "language": "python",
   "name": "python3"
  },
  "language_info": {
   "codemirror_mode": {
    "name": "ipython",
    "version": 3
   },
   "file_extension": ".py",
   "mimetype": "text/x-python",
   "name": "python",
   "nbconvert_exporter": "python",
   "pygments_lexer": "ipython3",
   "version": "3.8.8"
  }
 },
 "nbformat": 4,
 "nbformat_minor": 5
}
